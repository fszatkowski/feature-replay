{
 "cells": [
  {
   "cell_type": "code",
   "execution_count": 1,
   "id": "68bcda10-7a81-4f2f-a5a6-3b95e168b99c",
   "metadata": {},
   "outputs": [],
   "source": [
    "import torch\n",
    "from torch import nn\n",
    "from torch.utils.data import DataLoader\n",
    "from torchvision import datasets\n",
    "from torchvision.transforms import ToTensor\n",
    "\n",
    "import matplotlib.pyplot as plt"
   ]
  },
  {
   "cell_type": "code",
   "execution_count": 2,
   "id": "184a8b74-88ea-4831-a0cf-4d57213ea30e",
   "metadata": {},
   "outputs": [],
   "source": [
    "training_data = datasets.FashionMNIST(\n",
    "    root=\"data\",\n",
    "    train=True,\n",
    "    download=True,\n",
    "    transform=ToTensor(),\n",
    ")\n",
    "\n",
    "test_data = datasets.FashionMNIST(\n",
    "    root=\"data\",\n",
    "    train=False,\n",
    "    download=True,\n",
    "    transform=ToTensor(),\n",
    ")"
   ]
  },
  {
   "cell_type": "code",
   "execution_count": 3,
   "id": "e523095c-8c97-4f9e-b7d1-69ed33b44937",
   "metadata": {},
   "outputs": [
    {
     "name": "stdout",
     "output_type": "stream",
     "text": [
      "Shape of X [N, C, H, W]: torch.Size([64, 1, 28, 28])\n",
      "Shape of y: torch.Size([64]) torch.int64\n"
     ]
    }
   ],
   "source": [
    "batch_size = 64\n",
    "\n",
    "# Create data loaders.\n",
    "train_dataloader = DataLoader(training_data, batch_size=batch_size)\n",
    "test_dataloader = DataLoader(test_data, batch_size=batch_size)\n",
    "\n",
    "for X, y in test_dataloader:\n",
    "    print(f\"Shape of X [N, C, H, W]: {X.shape}\")\n",
    "    print(f\"Shape of y: {y.shape} {y.dtype}\")\n",
    "    break\n"
   ]
  },
  {
   "cell_type": "code",
   "execution_count": 4,
   "id": "5cb0d05d-d780-47f0-a362-8c4084730467",
   "metadata": {},
   "outputs": [
    {
     "name": "stdout",
     "output_type": "stream",
     "text": [
      "Using cuda device\n",
      "NeuralNetwork(\n",
      "  (flatten): Flatten(start_dim=1, end_dim=-1)\n",
      "  (linear_relu_stack): Sequential(\n",
      "    (0): Linear(in_features=784, out_features=300, bias=True)\n",
      "    (1): ReLU()\n",
      "    (2): Linear(in_features=300, out_features=300, bias=True)\n",
      "    (3): ReLU()\n",
      "    (4): Linear(in_features=300, out_features=300, bias=True)\n",
      "    (5): ReLU()\n",
      "    (6): Linear(in_features=300, out_features=10, bias=True)\n",
      "  )\n",
      ")\n"
     ]
    }
   ],
   "source": [
    "# Get cpu or gpu device for training.\n",
    "device = \"cuda\" if torch.cuda.is_available() else \"cpu\"\n",
    "print(f\"Using {device} device\")\n",
    "\n",
    "# Define model\n",
    "class NeuralNetwork(nn.Module):\n",
    "    def __init__(self):\n",
    "        super(NeuralNetwork, self).__init__()\n",
    "        self.flatten = nn.Flatten()\n",
    "        self.linear_relu_stack = nn.Sequential(\n",
    "            nn.Linear(28*28, 300),\n",
    "            nn.ReLU(),\n",
    "            nn.Linear(300, 300),\n",
    "            nn.ReLU(),\n",
    "            nn.Linear(300, 300),\n",
    "            nn.ReLU(),\n",
    "            nn.Linear(300, 10)\n",
    "        )\n",
    "\n",
    "    def forward(self, x):\n",
    "        x = self.flatten(x)\n",
    "        logits = self.linear_relu_stack(x)\n",
    "        return logits\n",
    "\n",
    "model = NeuralNetwork().to(device)\n",
    "print(model)\n"
   ]
  },
  {
   "cell_type": "code",
   "execution_count": 5,
   "id": "b61199ad-cf1b-4978-8157-e06901c2eeca",
   "metadata": {},
   "outputs": [],
   "source": [
    "loss_fn = nn.CrossEntropyLoss()\n",
    "optimizer = torch.optim.SGD(model.parameters(), lr=1e-3)"
   ]
  },
  {
   "cell_type": "code",
   "execution_count": 6,
   "id": "4041d5bb-f366-41d6-8af6-eff012d1abe6",
   "metadata": {},
   "outputs": [],
   "source": [
    "def train(dataloader, model, loss_fn, optimizer):\n",
    "    size = len(dataloader.dataset)\n",
    "    model.train()\n",
    "    for batch, (X, y) in enumerate(dataloader):\n",
    "        X, y = X.to(device), y.to(device)\n",
    "\n",
    "        # Compute prediction error\n",
    "        pred = model(X)\n",
    "        loss = loss_fn(pred, y)\n",
    "\n",
    "        # Backpropagation\n",
    "        optimizer.zero_grad()\n",
    "        loss.backward()\n",
    "        optimizer.step()\n",
    "\n",
    "        if batch % 1000 == 0:\n",
    "            loss, current = loss.item(), batch * len(X)\n",
    "            print(f\"loss: {loss:>7f}  [{current:>5d}/{size:>5d}]\")"
   ]
  },
  {
   "cell_type": "code",
   "execution_count": 7,
   "id": "e23b412c-0676-424f-8867-0316755fb98b",
   "metadata": {},
   "outputs": [],
   "source": [
    "def test(dataloader, model, loss_fn):\n",
    "    size = len(dataloader.dataset)\n",
    "    num_batches = len(dataloader)\n",
    "    model.eval()\n",
    "    test_loss, correct = 0, 0\n",
    "    with torch.no_grad():\n",
    "        for X, y in dataloader:\n",
    "            X, y = X.to(device), y.to(device)\n",
    "            pred = model(X)\n",
    "            test_loss += loss_fn(pred, y).item()\n",
    "            correct += (pred.argmax(1) == y).type(torch.float).sum().item()\n",
    "    test_loss /= num_batches\n",
    "    correct /= size\n",
    "    print(f\"Test Error: \\n Accuracy: {(100*correct):>0.1f}%, Avg loss: {test_loss:>8f} \\n\")"
   ]
  },
  {
   "cell_type": "code",
   "execution_count": 8,
   "id": "cafe2b16-9f5c-477c-bab5-80cfc15547ba",
   "metadata": {},
   "outputs": [
    {
     "data": {
      "image/png": "[encoded data removed]",
      "text/plain": [
       "<Figure size 800x800 with 9 Axes>"
      ]
     },
     "metadata": {},
     "output_type": "display_data"
    }
   ],
   "source": [
    "labels_map = {\n",
    "    0: \"T-Shirt\",\n",
    "    1: \"Trouser\",\n",
    "    2: \"Pullover\",\n",
    "    3: \"Dress\",\n",
    "    4: \"Coat\",\n",
    "    5: \"Sandal\",\n",
    "    6: \"Shirt\",\n",
    "    7: \"Sneaker\",\n",
    "    8: \"Bag\",\n",
    "    9: \"Ankle Boot\",\n",
    "}\n",
    "figure = plt.figure(figsize=(8, 8))\n",
    "cols, rows = 3, 3\n",
    "for i in range(1, cols * rows + 1):\n",
    "    sample_idx = torch.randint(len(training_data), size=(1,)).item()\n",
    "    img, label = training_data[sample_idx]\n",
    "    figure.add_subplot(rows, cols, i)\n",
    "    plt.title(labels_map[label])\n",
    "    plt.axis(\"off\")\n",
    "    plt.imshow(img.squeeze(), cmap=\"gray\")\n",
    "plt.show()"
   ]
  },
  {
   "cell_type": "code",
   "execution_count": 9,
   "id": "d3c25b1f-9e64-4915-8af2-a7e8c91df476",
   "metadata": {},
   "outputs": [],
   "source": [
    "idx = (training_data.targets == 0) | (training_data.targets == 1) | (training_data.targets == 2) | (training_data.targets == 3) | (training_data.targets == 4)\n",
    "trainset_1 = torch.utils.data.Subset(training_data, [i for i, x in enumerate(idx) if x])\n",
    "trainset_2 = torch.utils.data.Subset(training_data, [i for i, x in enumerate(idx) if not x])"
   ]
  },
  {
   "cell_type": "code",
   "execution_count": 10,
   "id": "fb79d53a-4d8a-4aa6-92ee-b725db9e029b",
   "metadata": {},
   "outputs": [],
   "source": [
    "trainloader_1 = torch.utils.data.DataLoader(trainset_1, batch_size=64,\n",
    "                                            shuffle=True, num_workers=2)\n",
    "trainloader_2 = torch.utils.data.DataLoader(trainset_2, batch_size=64,\n",
    "                                            shuffle=True, num_workers=2)"
   ]
  },
  {
   "cell_type": "code",
   "execution_count": 11,
   "id": "c826c331-4e3a-4326-aa53-aa6a7be75420",
   "metadata": {},
   "outputs": [],
   "source": [
    "idx = (test_data.targets == 0) | (test_data.targets == 1) | (test_data.targets == 2) | (test_data.targets == 3) | (test_data.targets == 4)\n",
    "testset_1 = torch.utils.data.Subset(test_data, [i for i, x in enumerate(idx) if x])\n",
    "testset_2 = torch.utils.data.Subset(test_data, [i for i, x in enumerate(idx) if not x])"
   ]
  },
  {
   "cell_type": "code",
   "execution_count": 12,
   "id": "c303838c-7471-4c54-a4b9-829892c4951b",
   "metadata": {},
   "outputs": [],
   "source": [
    "testloader_1 = torch.utils.data.DataLoader(testset_1, batch_size=100,\n",
    "                                            shuffle=False, num_workers=2)\n",
    "testloader_2 = torch.utils.data.DataLoader(testset_2, batch_size=100,\n",
    "                                            shuffle=False, num_workers=2)"
   ]
  },
  {
   "cell_type": "code",
   "execution_count": 13,
   "id": "22e984d8-c86f-43ad-bcab-79b0789a0a94",
   "metadata": {},
   "outputs": [
    {
     "name": "stdout",
     "output_type": "stream",
     "text": [
      "Epoch 1\n",
      "-------------------------------\n",
      "loss: 2.309290  [    0/30000]\n",
      "Test Error: \n",
      " Accuracy: 32.3%, Avg loss: 2.190969 \n",
      "\n",
      "Epoch 2\n",
      "-------------------------------\n",
      "loss: 2.194293  [    0/30000]\n",
      "Test Error: \n",
      " Accuracy: 26.2%, Avg loss: 2.016397 \n",
      "\n",
      "Epoch 3\n",
      "-------------------------------\n",
      "loss: 2.029409  [    0/30000]\n",
      "Test Error: \n",
      " Accuracy: 23.1%, Avg loss: 1.726033 \n",
      "\n",
      "Epoch 4\n",
      "-------------------------------\n",
      "loss: 1.738090  [    0/30000]\n",
      "Test Error: \n",
      " Accuracy: 55.0%, Avg loss: 1.524473 \n",
      "\n",
      "Epoch 5\n",
      "-------------------------------\n",
      "loss: 1.520590  [    0/30000]\n",
      "Test Error: \n",
      " Accuracy: 62.6%, Avg loss: 1.351270 \n",
      "\n",
      "Epoch 6\n",
      "-------------------------------\n",
      "loss: 1.332332  [    0/30000]\n",
      "Test Error: \n",
      " Accuracy: 59.9%, Avg loss: 1.176128 \n",
      "\n",
      "Epoch 7\n",
      "-------------------------------\n",
      "loss: 1.135961  [    0/30000]\n",
      "Test Error: \n",
      " Accuracy: 63.6%, Avg loss: 1.050517 \n",
      "\n",
      "Epoch 8\n",
      "-------------------------------\n",
      "loss: 1.063640  [    0/30000]\n",
      "Test Error: \n",
      " Accuracy: 63.4%, Avg loss: 0.969564 \n",
      "\n",
      "Epoch 9\n",
      "-------------------------------\n",
      "loss: 1.090633  [    0/30000]\n",
      "Test Error: \n",
      " Accuracy: 66.2%, Avg loss: 0.910142 \n",
      "\n",
      "Epoch 10\n",
      "-------------------------------\n",
      "loss: 1.016586  [    0/30000]\n",
      "Test Error: \n",
      " Accuracy: 67.5%, Avg loss: 0.863448 \n",
      "\n",
      "Epoch 11\n",
      "-------------------------------\n",
      "loss: 0.855121  [    0/30000]\n",
      "Test Error: \n",
      " Accuracy: 70.2%, Avg loss: 0.817413 \n",
      "\n",
      "Epoch 12\n",
      "-------------------------------\n",
      "loss: 0.788720  [    0/30000]\n",
      "Test Error: \n",
      " Accuracy: 73.4%, Avg loss: 0.775278 \n",
      "\n",
      "Epoch 13\n",
      "-------------------------------\n",
      "loss: 0.910161  [    0/30000]\n",
      "Test Error: \n",
      " Accuracy: 73.7%, Avg loss: 0.734268 \n",
      "\n",
      "Epoch 14\n",
      "-------------------------------\n",
      "loss: 0.679268  [    0/30000]\n",
      "Test Error: \n",
      " Accuracy: 75.3%, Avg loss: 0.694925 \n",
      "\n",
      "Epoch 15\n",
      "-------------------------------\n",
      "loss: 0.737260  [    0/30000]\n",
      "Test Error: \n",
      " Accuracy: 76.5%, Avg loss: 0.659446 \n",
      "\n",
      "Epoch 16\n",
      "-------------------------------\n",
      "loss: 0.547364  [    0/30000]\n",
      "Test Error: \n",
      " Accuracy: 77.3%, Avg loss: 0.632631 \n",
      "\n",
      "Epoch 17\n",
      "-------------------------------\n",
      "loss: 0.567682  [    0/30000]\n",
      "Test Error: \n",
      " Accuracy: 78.1%, Avg loss: 0.606408 \n",
      "\n",
      "Epoch 18\n",
      "-------------------------------\n",
      "loss: 0.545873  [    0/30000]\n",
      "Test Error: \n",
      " Accuracy: 78.4%, Avg loss: 0.587276 \n",
      "\n",
      "Epoch 19\n",
      "-------------------------------\n",
      "loss: 0.576171  [    0/30000]\n",
      "Test Error: \n",
      " Accuracy: 78.9%, Avg loss: 0.568208 \n",
      "\n",
      "Epoch 20\n",
      "-------------------------------\n",
      "loss: 0.435067  [    0/30000]\n",
      "Test Error: \n",
      " Accuracy: 79.3%, Avg loss: 0.552584 \n",
      "\n",
      "Epoch 21\n",
      "-------------------------------\n",
      "loss: 0.416691  [    0/30000]\n",
      "Test Error: \n",
      " Accuracy: 80.6%, Avg loss: 0.539326 \n",
      "\n",
      "Epoch 22\n",
      "-------------------------------\n",
      "loss: 0.519065  [    0/30000]\n",
      "Test Error: \n",
      " Accuracy: 80.9%, Avg loss: 0.525072 \n",
      "\n",
      "Epoch 23\n",
      "-------------------------------\n",
      "loss: 0.447264  [    0/30000]\n",
      "Test Error: \n",
      " Accuracy: 81.5%, Avg loss: 0.511958 \n",
      "\n",
      "Epoch 24\n",
      "-------------------------------\n",
      "loss: 0.358571  [    0/30000]\n",
      "Test Error: \n",
      " Accuracy: 81.7%, Avg loss: 0.502686 \n",
      "\n",
      "Epoch 25\n",
      "-------------------------------\n",
      "loss: 0.667918  [    0/30000]\n",
      "Test Error: \n",
      " Accuracy: 82.3%, Avg loss: 0.495122 \n",
      "\n",
      "Epoch 26\n",
      "-------------------------------\n",
      "loss: 0.441546  [    0/30000]\n",
      "Test Error: \n",
      " Accuracy: 82.6%, Avg loss: 0.481948 \n",
      "\n",
      "Epoch 27\n",
      "-------------------------------\n",
      "loss: 0.465691  [    0/30000]\n",
      "Test Error: \n",
      " Accuracy: 82.9%, Avg loss: 0.474161 \n",
      "\n",
      "Epoch 28\n",
      "-------------------------------\n",
      "loss: 0.426940  [    0/30000]\n",
      "Test Error: \n",
      " Accuracy: 83.1%, Avg loss: 0.467639 \n",
      "\n",
      "Epoch 29\n",
      "-------------------------------\n",
      "loss: 0.451674  [    0/30000]\n",
      "Test Error: \n",
      " Accuracy: 83.0%, Avg loss: 0.461367 \n",
      "\n",
      "Epoch 30\n",
      "-------------------------------\n",
      "loss: 0.457258  [    0/30000]\n",
      "Test Error: \n",
      " Accuracy: 83.3%, Avg loss: 0.455587 \n",
      "\n",
      "Done!\n"
     ]
    }
   ],
   "source": [
    "epochs = 30\n",
    "for t in range(epochs):\n",
    "    print(f\"Epoch {t+1}\\n-------------------------------\")\n",
    "    train(trainloader_1, model, loss_fn, optimizer)\n",
    "    test(testloader_1, model, loss_fn)\n",
    "print(\"Done!\")"
   ]
  },
  {
   "cell_type": "code",
   "execution_count": 14,
   "id": "16bb1bd8-968b-4991-a96d-f456cc21f197",
   "metadata": {},
   "outputs": [],
   "source": [
    "def get_features(name):\n",
    "    def hook(model, input, output):\n",
    "        features[name] = output.detach()\n",
    "    return hook"
   ]
  },
  {
   "cell_type": "code",
   "execution_count": 15,
   "id": "7cdb7183-b0b2-45ca-8b76-4626f61e3a1b",
   "metadata": {},
   "outputs": [],
   "source": [
    "h1 = model.linear_relu_stack[1].register_forward_hook(get_features(\"fl1\"))\n",
    "h2 = model.linear_relu_stack[3].register_forward_hook(get_features(\"fl2\"))\n",
    "h3 = model.linear_relu_stack[5].register_forward_hook(get_features(\"fl3\"))"
   ]
  },
  {
   "cell_type": "code",
   "execution_count": 16,
   "id": "3dd42986-67d8-4a01-960e-ebc5a919b701",
   "metadata": {},
   "outputs": [],
   "source": [
    "FEATS = []\n",
    "features={}\n",
    "with torch.no_grad():\n",
    "    for idx, (X, y) in enumerate(testloader_1):\n",
    "        X, y = X.to(device), y.to(device)\n",
    "\n",
    "        # forward pass [with feature extraction]\n",
    "        preds = model(X)"
   ]
  },
  {
   "cell_type": "code",
   "execution_count": 17,
   "id": "666a88fd-f5b7-4d3a-851f-ef1d741219f9",
   "metadata": {
    "tags": []
   },
   "outputs": [
    {
     "data": {
      "text/plain": [
       "{'fl1': tensor([[0.9098, 1.6562, 0.5162,  ..., 0.1912, 0.0000, 0.0000],\n",
       "         [0.4099, 1.3837, 0.1522,  ..., 0.4672, 0.0125, 0.0000],\n",
       "         [0.2932, 0.7885, 0.2407,  ..., 0.0756, 0.0000, 0.0000],\n",
       "         ...,\n",
       "         [0.6806, 1.7800, 0.1672,  ..., 0.3745, 0.0000, 0.0000],\n",
       "         [0.4232, 1.0015, 0.0000,  ..., 0.3632, 0.0000, 0.0000],\n",
       "         [0.7863, 1.5349, 0.2186,  ..., 0.3455, 0.0000, 0.0000]],\n",
       "        device='cuda:0'),\n",
       " 'fl2': tensor([[1.5716, 0.8975, 0.0000,  ..., 0.6193, 0.0000, 0.6718],\n",
       "         [1.1921, 1.4051, 0.0000,  ..., 1.1226, 0.0000, 1.3893],\n",
       "         [0.5547, 0.5621, 0.0000,  ..., 0.7028, 0.0000, 0.9560],\n",
       "         ...,\n",
       "         [1.3061, 0.4380, 0.0000,  ..., 0.2648, 0.0000, 0.1680],\n",
       "         [0.6872, 0.2259, 0.0000,  ..., 0.1145, 0.0000, 0.0628],\n",
       "         [1.3141, 0.6629, 0.0000,  ..., 0.3255, 0.0000, 0.3020]],\n",
       "        device='cuda:0'),\n",
       " 'fl3': tensor([[0.0000, 0.0000, 1.4662,  ..., 0.0000, 0.3406, 0.0000],\n",
       "         [0.0000, 0.8110, 0.2738,  ..., 0.0000, 1.6756, 0.0344],\n",
       "         [0.0000, 0.5187, 0.5181,  ..., 0.0000, 0.5159, 0.0000],\n",
       "         ...,\n",
       "         [0.0000, 0.0000, 0.9400,  ..., 0.0000, 0.6112, 0.0000],\n",
       "         [0.0000, 0.0000, 0.5653,  ..., 0.0000, 0.3531, 0.0000],\n",
       "         [0.0000, 0.0000, 0.9765,  ..., 0.0000, 0.6082, 0.0000]],\n",
       "        device='cuda:0')}"
      ]
     },
     "execution_count": 17,
     "metadata": {},
     "output_type": "execute_result"
    }
   ],
   "source": [
    "features"
   ]
  },
  {
   "cell_type": "code",
   "execution_count": 19,
   "id": "0cfc25bb-83d3-4dfa-af8f-53d6f73a8405",
   "metadata": {},
   "outputs": [],
   "source": [
    "h1.remove()\n",
    "h2.remove()\n",
    "h3.remove()"
   ]
  },
  {
   "cell_type": "code",
   "execution_count": 23,
   "id": "77bbb6dd-39a8-40f6-8cc2-a8100a143dfb",
   "metadata": {},
   "outputs": [
    {
     "data": {
      "text/plain": [
       "100"
      ]
     },
     "execution_count": 23,
     "metadata": {},
     "output_type": "execute_result"
    }
   ],
   "source": [
    "len(features['fl1'])"
   ]
  },
  {
   "cell_type": "code",
   "execution_count": 41,
   "id": "4d162d7c-f942-45a0-905c-db44bb7314a6",
   "metadata": {},
   "outputs": [
    {
     "name": "stdout",
     "output_type": "stream",
     "text": [
      "Epoch 1\n",
      "-------------------------------\n",
      "loss: 1.672738  [    0/30000]\n",
      "Test Error: \n",
      " Accuracy: 14.0%, Avg loss: 5.907332 \n",
      "\n",
      "Test Error: \n",
      " Accuracy: 56.2%, Avg loss: 1.346965 \n",
      "\n",
      "Done!\n"
     ]
    }
   ],
   "source": [
    "epochs = 1\n",
    "for t in range(epochs):\n",
    "    print(f\"Epoch {t+1}\\n-------------------------------\")\n",
    "    train(trainloader_2, model, loss_fn, optimizer)\n",
    "    test(testloader_1, model, loss_fn)\n",
    "    test(testloader_2, model, loss_fn)\n",
    "print(\"Done!\")"
   ]
  },
  {
   "cell_type": "code",
   "execution_count": 42,
   "id": "f127e4dd-730a-4183-98f7-1fce4c278aea",
   "metadata": {},
   "outputs": [],
   "source": [
    "h1 = model.linear_relu_stack[1].register_forward_hook(get_features(\"fl1_task2_3\"))\n",
    "h2 = model.linear_relu_stack[3].register_forward_hook(get_features(\"fl2_task2_3\"))\n",
    "h3 = model.linear_relu_stack[5].register_forward_hook(get_features(\"fl3_task2_3\"))"
   ]
  },
  {
   "cell_type": "code",
   "execution_count": 43,
   "id": "bbdfdc06-30ef-4737-bc1d-9fb0836fc278",
   "metadata": {},
   "outputs": [],
   "source": [
    "with torch.no_grad():\n",
    "    for idx, (X, y) in enumerate(testloader_1):\n",
    "        X, y = X.to(device), y.to(device)\n",
    "\n",
    "        # forward pass [with feature extraction]\n",
    "        preds = model(X)"
   ]
  },
  {
   "cell_type": "code",
   "execution_count": 44,
   "id": "e8c5dae0-d744-4962-b834-1ce32aed9a19",
   "metadata": {},
   "outputs": [],
   "source": [
    "h1.remove()\n",
    "h2.remove()\n",
    "h3.remove()"
   ]
  },
  {
   "cell_type": "code",
   "execution_count": 36,
   "id": "0ddbb4f8-35fd-4fd8-ba5f-cb84a3b5d94f",
   "metadata": {},
   "outputs": [
    {
     "data": {
      "text/plain": [
       "{'fl1': tensor([[0.9098, 1.6562, 0.5162,  ..., 0.1912, 0.0000, 0.0000],\n",
       "         [0.4099, 1.3837, 0.1522,  ..., 0.4672, 0.0125, 0.0000],\n",
       "         [0.2932, 0.7885, 0.2407,  ..., 0.0756, 0.0000, 0.0000],\n",
       "         ...,\n",
       "         [0.6806, 1.7800, 0.1672,  ..., 0.3745, 0.0000, 0.0000],\n",
       "         [0.4232, 1.0015, 0.0000,  ..., 0.3632, 0.0000, 0.0000],\n",
       "         [0.7863, 1.5349, 0.2186,  ..., 0.3455, 0.0000, 0.0000]],\n",
       "        device='cuda:0'),\n",
       " 'fl2': tensor([[1.5716, 0.8975, 0.0000,  ..., 0.6193, 0.0000, 0.6718],\n",
       "         [1.1921, 1.4051, 0.0000,  ..., 1.1226, 0.0000, 1.3893],\n",
       "         [0.5547, 0.5621, 0.0000,  ..., 0.7028, 0.0000, 0.9560],\n",
       "         ...,\n",
       "         [1.3061, 0.4380, 0.0000,  ..., 0.2648, 0.0000, 0.1680],\n",
       "         [0.6872, 0.2259, 0.0000,  ..., 0.1145, 0.0000, 0.0628],\n",
       "         [1.3141, 0.6629, 0.0000,  ..., 0.3255, 0.0000, 0.3020]],\n",
       "        device='cuda:0'),\n",
       " 'fl3': tensor([[0.0000, 0.0000, 1.4662,  ..., 0.0000, 0.3406, 0.0000],\n",
       "         [0.0000, 0.8110, 0.2738,  ..., 0.0000, 1.6756, 0.0344],\n",
       "         [0.0000, 0.5187, 0.5181,  ..., 0.0000, 0.5159, 0.0000],\n",
       "         ...,\n",
       "         [0.0000, 0.0000, 0.9400,  ..., 0.0000, 0.6112, 0.0000],\n",
       "         [0.0000, 0.0000, 0.5653,  ..., 0.0000, 0.3531, 0.0000],\n",
       "         [0.0000, 0.0000, 0.9765,  ..., 0.0000, 0.6082, 0.0000]],\n",
       "        device='cuda:0'),\n",
       " 'fl1_task2': tensor([[0.8190, 1.2849, 0.7880,  ..., 0.5604, 0.0000, 0.0000],\n",
       "         [0.3366, 0.8069, 0.6624,  ..., 1.1275, 0.2718, 0.0000],\n",
       "         [0.2287, 0.4484, 0.5272,  ..., 0.4528, 0.0341, 0.0000],\n",
       "         ...,\n",
       "         [0.6062, 1.4643, 0.4011,  ..., 0.6802, 0.0282, 0.0000],\n",
       "         [0.3810, 0.8241, 0.0795,  ..., 0.5348, 0.0000, 0.0000],\n",
       "         [0.7134, 1.2293, 0.4435,  ..., 0.6429, 0.0000, 0.0000]],\n",
       "        device='cuda:0'),\n",
       " 'fl2_task2': tensor([[0.9117, 1.0249, 0.0000,  ..., 0.0595, 0.0000, 0.0000],\n",
       "         [0.1779, 1.5200, 0.0000,  ..., 0.1112, 0.0000, 0.1122],\n",
       "         [0.0000, 0.6430, 0.0000,  ..., 0.1343, 0.0000, 0.2286],\n",
       "         ...,\n",
       "         [0.7206, 0.5830, 0.0000,  ..., 0.0000, 0.0000, 0.0000],\n",
       "         [0.3749, 0.2933, 0.0000,  ..., 0.0000, 0.0000, 0.0000],\n",
       "         [0.7563, 0.7605, 0.0000,  ..., 0.0000, 0.0000, 0.0000]],\n",
       "        device='cuda:0'),\n",
       " 'fl3_task2': tensor([[0.0000, 0.0000, 0.5822,  ..., 0.0000, 0.4933, 0.0000],\n",
       "         [0.4214, 0.7140, 0.0000,  ..., 0.0000, 1.5824, 0.1199],\n",
       "         [0.1808, 0.4601, 0.0000,  ..., 0.0000, 0.6166, 0.0539],\n",
       "         ...,\n",
       "         [0.0000, 0.0000, 0.2860,  ..., 0.0000, 0.7002, 0.0000],\n",
       "         [0.0320, 0.0000, 0.1910,  ..., 0.0000, 0.4003, 0.0000],\n",
       "         [0.0000, 0.0000, 0.3134,  ..., 0.0000, 0.6822, 0.0000]],\n",
       "        device='cuda:0'),\n",
       " 'fl1_task2_2': tensor([[0.8287, 1.2598, 0.8166,  ..., 0.6558, 0.0000, 0.0000],\n",
       "         [0.3528, 0.7655, 0.7129,  ..., 1.2837, 0.2694, 0.0000],\n",
       "         [0.2411, 0.4252, 0.5579,  ..., 0.5429, 0.0316, 0.0000],\n",
       "         ...,\n",
       "         [0.6165, 1.4427, 0.4269,  ..., 0.7584, 0.0233, 0.0000],\n",
       "         [0.3894, 0.8118, 0.0945,  ..., 0.5774, 0.0000, 0.0000],\n",
       "         [0.7219, 1.2082, 0.4678,  ..., 0.7206, 0.0000, 0.0000]],\n",
       "        device='cuda:0'),\n",
       " 'fl2_task2_2': tensor([[0.8683, 1.2559, 0.0000,  ..., 0.0833, 0.0000, 0.0000],\n",
       "         [0.1306, 1.9187, 0.0000,  ..., 0.1628, 0.0000, 0.1326],\n",
       "         [0.0000, 0.8673, 0.0000,  ..., 0.1570, 0.0000, 0.2390],\n",
       "         ...,\n",
       "         [0.7037, 0.7565, 0.0000,  ..., 0.0000, 0.0000, 0.0000],\n",
       "         [0.3624, 0.3959, 0.0000,  ..., 0.0000, 0.0000, 0.0000],\n",
       "         [0.7319, 0.9482, 0.0000,  ..., 0.0000, 0.0000, 0.0000]],\n",
       "        device='cuda:0'),\n",
       " 'fl3_task2_2': tensor([[0.0814, 0.2555, 0.4559,  ..., 0.0000, 0.7991, 0.0000],\n",
       "         [0.7125, 1.2465, 0.0000,  ..., 0.0000, 2.1174, 0.2870],\n",
       "         [0.3313, 0.7720, 0.0000,  ..., 0.0000, 0.9049, 0.1417],\n",
       "         ...,\n",
       "         [0.0937, 0.1283, 0.1927,  ..., 0.0000, 0.9421, 0.0000],\n",
       "         [0.1006, 0.0444, 0.1486,  ..., 0.0000, 0.5379, 0.0000],\n",
       "         [0.1045, 0.1199, 0.2430,  ..., 0.0000, 0.9304, 0.0000]],\n",
       "        device='cuda:0')}"
      ]
     },
     "execution_count": 36,
     "metadata": {},
     "output_type": "execute_result"
    }
   ],
   "source": [
    "features"
   ]
  },
  {
   "cell_type": "code",
   "execution_count": 27,
   "id": "80abfe8c-560e-4037-abd0-8253fd0b6033",
   "metadata": {},
   "outputs": [
    {
     "data": {
      "text/plain": [
       "100"
      ]
     },
     "execution_count": 27,
     "metadata": {},
     "output_type": "execute_result"
    }
   ],
   "source": [
    "len(features['fl1'])"
   ]
  },
  {
   "cell_type": "code",
   "execution_count": 28,
   "id": "9c54cf4b-b79a-48f5-a80d-be1d7cffa8e0",
   "metadata": {},
   "outputs": [],
   "source": [
    "emb_loss = nn.CosineEmbeddingLoss()"
   ]
  },
  {
   "cell_type": "code",
   "execution_count": 37,
   "id": "b636c4f8-68e3-4731-babd-d37a1aca38fb",
   "metadata": {},
   "outputs": [
    {
     "data": {
      "text/plain": [
       "tensor(0.0387)"
      ]
     },
     "execution_count": 37,
     "metadata": {},
     "output_type": "execute_result"
    }
   ],
   "source": [
    "emb_loss(features['fl1'].cpu(), features['fl1_task2'].cpu(), target=torch.ones(100))"
   ]
  },
  {
   "cell_type": "code",
   "execution_count": 30,
   "id": "52307aea-baff-43ec-a2b8-1f5f62adc8b2",
   "metadata": {},
   "outputs": [
    {
     "data": {
      "text/plain": [
       "tensor(0.1398)"
      ]
     },
     "execution_count": 30,
     "metadata": {},
     "output_type": "execute_result"
    }
   ],
   "source": [
    "emb_loss(features['fl2'].cpu(), features['fl2_task2'].cpu(), target=torch.ones(100))"
   ]
  },
  {
   "cell_type": "code",
   "execution_count": 31,
   "id": "eb9ac81e-746b-479e-8714-57e884404fc5",
   "metadata": {},
   "outputs": [
    {
     "data": {
      "text/plain": [
       "tensor(0.3573)"
      ]
     },
     "execution_count": 31,
     "metadata": {},
     "output_type": "execute_result"
    }
   ],
   "source": [
    "emb_loss(features['fl3'].cpu(), features['fl3_task2'].cpu(), target=torch.ones(100))"
   ]
  },
  {
   "cell_type": "code",
   "execution_count": 38,
   "id": "6f207134-eb0a-4a6a-b404-29ad29f62116",
   "metadata": {},
   "outputs": [
    {
     "data": {
      "text/plain": [
       "tensor(0.0379)"
      ]
     },
     "execution_count": 38,
     "metadata": {},
     "output_type": "execute_result"
    }
   ],
   "source": [
    "emb_loss(features['fl1'].cpu(), features['fl1_task2_2'].cpu(), target=torch.ones(100))"
   ]
  },
  {
   "cell_type": "code",
   "execution_count": 39,
   "id": "b8f9a66c-997d-4940-8bc7-84278757a93e",
   "metadata": {},
   "outputs": [
    {
     "data": {
      "text/plain": [
       "tensor(0.1492)"
      ]
     },
     "execution_count": 39,
     "metadata": {},
     "output_type": "execute_result"
    }
   ],
   "source": [
    "emb_loss(features['fl2'].cpu(), features['fl2_task2_2'].cpu(), target=torch.ones(100))"
   ]
  },
  {
   "cell_type": "code",
   "execution_count": 40,
   "id": "8ced6d50-839a-4ae7-a8d4-bb85b922f226",
   "metadata": {},
   "outputs": [
    {
     "data": {
      "text/plain": [
       "tensor(0.4209)"
      ]
     },
     "execution_count": 40,
     "metadata": {},
     "output_type": "execute_result"
    }
   ],
   "source": [
    "emb_loss(features['fl3'].cpu(), features['fl3_task2_2'].cpu(), target=torch.ones(100))"
   ]
  },
  {
   "cell_type": "code",
   "execution_count": 45,
   "id": "37127110-c764-4ab7-8d12-b35f8148dc6f",
   "metadata": {},
   "outputs": [
    {
     "data": {
      "text/plain": [
       "tensor(0.0352)"
      ]
     },
     "execution_count": 45,
     "metadata": {},
     "output_type": "execute_result"
    }
   ],
   "source": [
    "emb_loss(features['fl1'].cpu(), features['fl1_task2_3'].cpu(), target=torch.ones(100))"
   ]
  },
  {
   "cell_type": "code",
   "execution_count": 46,
   "id": "e1804a4a-c3f8-418b-8205-84d591e3e21d",
   "metadata": {},
   "outputs": [
    {
     "data": {
      "text/plain": [
       "tensor(0.1440)"
      ]
     },
     "execution_count": 46,
     "metadata": {},
     "output_type": "execute_result"
    }
   ],
   "source": [
    "emb_loss(features['fl2'].cpu(), features['fl2_task2_3'].cpu(), target=torch.ones(100))"
   ]
  },
  {
   "cell_type": "code",
   "execution_count": 47,
   "id": "41f4bdd2-a9a1-427a-9e24-1db369b62f7e",
   "metadata": {},
   "outputs": [
    {
     "data": {
      "text/plain": [
       "tensor(0.4270)"
      ]
     },
     "execution_count": 47,
     "metadata": {},
     "output_type": "execute_result"
    }
   ],
   "source": [
    "emb_loss(features['fl3'].cpu(), features['fl3_task2_3'].cpu(), target=torch.ones(100))"
   ]
  },
  {
   "cell_type": "code",
   "execution_count": 28,
   "id": "5bdab021-d371-4d47-a854-dc4eef5ae7e6",
   "metadata": {},
   "outputs": [
    {
     "data": {
      "text/plain": [
       "torch.Size([4, 300])"
      ]
     },
     "execution_count": 28,
     "metadata": {},
     "output_type": "execute_result"
    }
   ],
   "source": [
    "features['fl1'].cpu().shape"
   ]
  }
 ],
 "metadata": {
  "kernelspec": {
   "display_name": "Python 3 (ipykernel)",
   "language": "python",
   "name": "python3"
  },
  "language_info": {
   "codemirror_mode": {
    "name": "ipython",
    "version": 3
   },
   "file_extension": ".py",
   "mimetype": "text/x-python",
   "name": "python",
   "nbconvert_exporter": "python",
   "pygments_lexer": "ipython3",
   "version": "3.9.13"
  }
 },
 "nbformat": 4,
 "nbformat_minor": 5
}
